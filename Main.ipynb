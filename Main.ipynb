{
 "cells": [
  {
   "cell_type": "markdown",
   "id": "170d702c",
   "metadata": {},
   "source": [
    "# Progettino AQM"
   ]
  },
  {
   "cell_type": "markdown",
   "id": "8bf56f67",
   "metadata": {},
   "source": [
    "# Alla ricerca dell' autovalore dell'hamiltoniana dello stato fondamentale\n",
    "\n",
    "#### Autori:\n",
    "Dott. Michele Grossi<br>\n",
    "Francesco De Luca<br>\n",
    "Ian Gremese<br>\n",
    "Carlo Zollo"
   ]
  },
  {
   "cell_type": "markdown",
   "id": "bbb5cf16",
   "metadata": {},
   "source": [
    "### Armamentario generale, da caricare prima delle diverse operazioni"
   ]
  },
  {
   "cell_type": "markdown",
   "id": "e3ff5523",
   "metadata": {},
   "source": [
    "#### Diagonalizzazione computazionale \"classica\""
   ]
  },
  {
   "cell_type": "markdown",
   "id": "462ede67",
   "metadata": {},
   "source": [
    "Codice funzionale alla compilazione delle hamiltoniane da diagonalizzare."
   ]
  },
  {
   "cell_type": "code",
   "execution_count": 16,
   "id": "9be4b5da",
   "metadata": {},
   "outputs": [],
   "source": [
    "from qiskit.quantum_info.operators import Operator, Pauli\n",
    "\n",
    "Xp = Operator(Pauli('X'))\n",
    "Zp = Operator(Pauli('Z'))\n",
    "Yp = Operator(Pauli('Y'))\n",
    "Id = Operator(Pauli('I'))"
   ]
  },
  {
   "cell_type": "markdown",
   "id": "698b4eb0",
   "metadata": {},
   "source": [
    "Funzione per la diagonalizzazione classica di una lista di lunghezza variabile di operatori $\\hat H$, che ha la forma `([H0, H1, H2, ...], )`."
   ]
  },
  {
   "cell_type": "code",
   "execution_count": 17,
   "id": "de4ff67b",
   "metadata": {},
   "outputs": [],
   "source": [
    "import numpy as np\n",
    "from numpy import linalg\n",
    "\n",
    "def class_par_H_diagonalizer(*H):\n",
    "    E_l = []\n",
    "    P_l = []\n",
    "    Eivals = []\n",
    "    GSvals = []\n",
    "    num_qubits = 2\n",
    "\n",
    "    for k in H[0]: #H is ([H0, H1, ...],), so Hj can be selected as H[0][j]\n",
    "        E_l, P_l = linalg.eig(k.data)\n",
    "        E_l = np.real(E_l)\n",
    "        Eivals.append(np.sort(E_l))\n",
    "        GSvals.append(np.min(E_l))\n",
    "        \n",
    "    return GSvals, Eivals"
   ]
  },
  {
   "cell_type": "markdown",
   "id": "882412c8",
   "metadata": {},
   "source": [
    "Funzione per il grafico dei soli valori della diagonalizzazione classica."
   ]
  },
  {
   "cell_type": "code",
   "execution_count": 18,
   "id": "7b34c24c",
   "metadata": {},
   "outputs": [],
   "source": [
    "import matplotlib.pyplot as plt\n",
    "\n",
    "def plot_class(lists):\n",
    "\n",
    "    #plt.rcParams[\"figure.figsize\"] = (20,10)\n",
    "    fig, ax = plt.subplots(figsize=(9,6), dpi=100)#, fontsize=8)\n",
    "\n",
    "    plt.xticks(B)\n",
    "\n",
    "    #ax.scatter(b, energy, marker='o')\n",
    "    ax.scatter(B, lists[0], marker='o')\n",
    "    ax.plot(B, lists[1], color=\"#000000\", linewidth=0.5)\n",
    "\n",
    "    ax.set(xlabel='B field', ylabel='Energy', title='')\n",
    "\n",
    "    ax.grid()\n",
    "    plt.show()"
   ]
  },
  {
   "cell_type": "markdown",
   "id": "121fc0a9",
   "metadata": {},
   "source": [
    "#### Diagonalizzazione quantistica con il VQE"
   ]
  },
  {
   "cell_type": "markdown",
   "id": "56eb3167",
   "metadata": {},
   "source": [
    "Codice per la scrittura delle hamiltoniane da diagonalizzare:"
   ]
  },
  {
   "cell_type": "code",
   "execution_count": 19,
   "id": "1ca9745c",
   "metadata": {},
   "outputs": [],
   "source": [
    "import numpy as np\n",
    "from numpy import linalg\n",
    "from qiskit.opflow import X, Y, Z, I"
   ]
  },
  {
   "cell_type": "markdown",
   "id": "407cdb0a",
   "metadata": {},
   "source": [
    "Funzione che cerca il minimo autovalore dell'hamiltoniana:"
   ]
  },
  {
   "cell_type": "code",
   "execution_count": 20,
   "id": "f690dc21",
   "metadata": {},
   "outputs": [],
   "source": [
    "from IPython.display import display as ipd_display, clear_output as ipd_clear\n",
    "from qiskit.algorithms import VQE\n",
    "\n",
    "def VQE_par_H_diagonalizer(local_vqe,*H):\n",
    "    \n",
    "    GSvals = []\n",
    "    meanerr = []\n",
    "    \n",
    "    for i in range(len(H[0])):\n",
    "        ipd_clear(wait=True)\n",
    "        ipd_display(\"%da iterazione di %d\"%(i+1,len(H[0])))\n",
    "    \n",
    "        local_result = local_vqe.compute_minimum_eigenvalue(H[0][i])\n",
    "        GSvals.append(np.real(local_result.eigenvalue))\n",
    "        \n",
    "        meanerr.append(intermediate_info['stddev'][-1])\n",
    "        \n",
    "    return GSvals, meanerr"
   ]
  },
  {
   "cell_type": "markdown",
   "id": "0b4cb49f",
   "metadata": {},
   "source": [
    "Funzione per la raccolta di dati relativi all'ottimizzazione del VQE:"
   ]
  },
  {
   "cell_type": "code",
   "execution_count": 21,
   "id": "a8f4b864",
   "metadata": {},
   "outputs": [],
   "source": [
    "intermediate_info = {\n",
    "    'nfev': [],\n",
    "    'parameters': [],\n",
    "    'energy': [],\n",
    "    'stddev': []\n",
    "}\n",
    "\n",
    "def callback(nfev, parameters, energy, stddev):\n",
    "    intermediate_info['nfev'].append(nfev)\n",
    "    intermediate_info['parameters'].append(parameters)\n",
    "    intermediate_info['energy'].append(energy)\n",
    "    intermediate_info['stddev'].append(stddev)"
   ]
  },
  {
   "cell_type": "code",
   "execution_count": 22,
   "id": "67a13e88",
   "metadata": {},
   "outputs": [],
   "source": [
    "#import matplotlib as mpl\n",
    "#mpl.rcParams.update({'font.family': 'Linux Libertine', 'text.latex.preamble': r'\\usepackage{lmr}',})"
   ]
  },
  {
   "cell_type": "markdown",
   "id": "3ef995c2",
   "metadata": {},
   "source": [
    "Funzione per il grafico dei valori della diagonalizzazione classica e quantistica:"
   ]
  },
  {
   "cell_type": "code",
   "execution_count": 23,
   "id": "2cdfa673",
   "metadata": {},
   "outputs": [],
   "source": [
    "import matplotlib.pyplot as plt\n",
    "\n",
    "def plot_tot(lists):\n",
    "\n",
    "    #plt.rcParams[\"figure.figsize\"] = (20,10)\n",
    "    fig, ax = plt.subplots(figsize=(9,6), dpi=100)\n",
    "\n",
    "    plt.xticks(B)\n",
    "\n",
    "    #ax.scatter(b, energy, marker='o')\n",
    "    ax.scatter(B, lists[0], marker='o')\n",
    "    ax.plot(B, lists[1], color=\"#000000\", linewidth=0.5)\n",
    "    \n",
    "    #itero sulle diverse tecniche che ho utilizzato\n",
    "    for i in range(2,len(lists)):\n",
    "        ax.scatter(B, lists[i], marker='x')\n",
    "\n",
    "    ax.set(xlabel='B field', ylabel='Energy', title='')\n",
    "\n",
    "    ax.grid()\n",
    "    plt.show()"
   ]
  },
  {
   "cell_type": "markdown",
   "id": "7146b1c4",
   "metadata": {},
   "source": [
    "## Hamiltoniana n. 2: Interazioni anisotrope fra spin in campo magnetico $B$\n",
    "\n",
    "$$\\hat H = - \\sum_{i,j=1\\\\i<j}^n J\\left( \\hat X^{(i)}\\hat X^{(j)} + \\gamma_y\\hat Y^{(i)}\\hat Y^{(j)} + \\gamma_z\\hat Z^{(i)}\\hat Z^{(j)} \\right) - B \\sum_{i=1}^n Z^{(i)}$$"
   ]
  },
  {
   "cell_type": "markdown",
   "id": "4f30dc02",
   "metadata": {},
   "source": [
    "### Diagonalizzazione computazionale \"classica\""
   ]
  },
  {
   "cell_type": "markdown",
   "id": "bc6eb97c",
   "metadata": {},
   "source": [
    "#### Costruzione di $\\hat H$\n",
    "Costruiamo la lista delle hamiltoniane sui diversi valori di B:"
   ]
  },
  {
   "cell_type": "code",
   "execution_count": 90,
   "id": "0b5e08de",
   "metadata": {},
   "outputs": [],
   "source": [
    "import numpy as np\n",
    "from qiskit.opflow import X, Y, Z, I\n",
    "\n",
    "def Spin_Magnet_Hamilton(Natoms,J,gy,gz,B):\n",
    "    \n",
    "    #Builds the N-atoms Hamiltonian for anisotropic Magnetic field-spin interaction\n",
    "    #initialize 0-dimensional Operators\n",
    "    field=Operator([0])\n",
    "    spin=Operator([0])\n",
    "    tmp=Operator([0])\n",
    "    for i in range(1,Natoms+1):\n",
    "        field=(field^I)+(B*((I^(i-1))^Z)) #Adds the spin field interaction for each atom\n",
    "        spin=(spin^I) \n",
    "        if i>1:\n",
    "            for j in range (2,i+1): #spin-spin interaction term\n",
    "                tmp=Operator(np.zeros((2**i,2**i)))\n",
    "                tmp=tmp+(J*((I^(j-2))^X^(I^(i-j))^X))\n",
    "                tmp=tmp+(J*gy*((I^(j-2))^Y^(I^(i-j))^Y))\n",
    "                tmp=tmp+(J*gz*((I^(j-2))^Z^(I^(i-j))^Z)) \n",
    "            spin=spin+tmp\n",
    "            tmp=Operator([0])\n",
    "    return(spin+field)\n",
    "    "
   ]
  },
  {
   "cell_type": "code",
   "execution_count": 93,
   "id": "84b97f32",
   "metadata": {},
   "outputs": [],
   "source": [
    "cH = []\n",
    "J = -2.\n",
    "gy = 0.5\n",
    "gz = 0.\n",
    "B = np.linspace(-1.8,1.8,15).tolist()\n",
    "for k in B:\n",
    "    cH.append(J * (Xp.tensor(Xp) + gy*Yp.tensor(Yp) +gz* Zp.tensor(Zp)) +\\\n",
    "        k * (Zp.tensor(Id) + Id.tensor(Zp)))"
   ]
  },
  {
   "cell_type": "markdown",
   "id": "bfe37324",
   "metadata": {},
   "source": [
    "#### Algoritmo"
   ]
  },
  {
   "cell_type": "markdown",
   "id": "03a22b93",
   "metadata": {},
   "source": [
    "Invochiamo la funzione per la diagonalizzazione classica computazionale:"
   ]
  },
  {
   "cell_type": "code",
   "execution_count": 10,
   "id": "f7e35c59",
   "metadata": {},
   "outputs": [],
   "source": [
    "cGSEigE, EigE = class_par_H_diagonalizer(cH)"
   ]
  },
  {
   "cell_type": "markdown",
   "id": "4f001d9b",
   "metadata": {},
   "source": [
    "Visualizziamo il grafico degli autovalori determinati classicamente:"
   ]
  },
  {
   "cell_type": "code",
   "execution_count": 11,
   "id": "1a5b9d9f",
   "metadata": {},
   "outputs": [
    {
     "data": {
      "image/png": "[encoded data removed]",
      "text/plain": [
       "<Figure size 900x600 with 1 Axes>"
      ]
     },
     "metadata": {
      "needs_background": "light"
     },
     "output_type": "display_data"
    }
   ],
   "source": [
    "plot_class([cGSEigE, EigE])"
   ]
  },
  {
   "cell_type": "markdown",
   "id": "c843d1e1",
   "metadata": {},
   "source": [
    "### Diagonalizzazione quantistica con il VQE"
   ]
  },
  {
   "cell_type": "markdown",
   "id": "218facc2",
   "metadata": {},
   "source": [
    "#### Costruzione di $\\hat H$\n",
    "Costruiamo la lista delle hamiltoniane sui diversi valori di B:"
   ]
  },
  {
   "cell_type": "code",
   "execution_count": 12,
   "id": "8532ddf0",
   "metadata": {},
   "outputs": [],
   "source": [
    "qH = []\n",
    "J = -2.\n",
    "gy = 0.5\n",
    "gz = 0.\n",
    "B = np.linspace(-1.8,1.8,15).tolist()\n",
    "    \n",
    "for k in B:\n",
    "    hspinz = J * ( (X^X) + gy*(Y^Y) + gz*(Z^Z) )\n",
    "    hfield = k * ( Z^I ) + k * ( I^Z )\n",
    "    qH = qH + [(hspinz + hfield)]"
   ]
  },
  {
   "cell_type": "markdown",
   "id": "35c579f6",
   "metadata": {},
   "source": [
    "#### Algoritmo"
   ]
  },
  {
   "cell_type": "markdown",
   "id": "375310d0",
   "metadata": {},
   "source": [
    "Facciamo una scelta dell'ansatz, fra `EfficientSU2` ecc., impostandone i parametri secondo la definizione che abbiamo dato al nostro problema."
   ]
  },
  {
   "cell_type": "code",
   "execution_count": 13,
   "id": "53fcfdd2",
   "metadata": {},
   "outputs": [
    {
     "data": {
      "image/png": "[encoded data removed]",
      "text/plain": [
       "<PIL.Image.Image image mode=RGB size=612x80 at 0x20F17E4AD30>"
      ]
     },
     "execution_count": 13,
     "metadata": {},
     "output_type": "execute_result"
    }
   ],
   "source": [
    "from qiskit.circuit.library import EfficientSU2\n",
    "\n",
    "num_qubits = 2\n",
    "# the rotation gates are chosen randomly, so we set a seed for reproducibility\n",
    "ansatz = EfficientSU2(num_qubits, reps=1, entanglement='linear', insert_barriers=True) \n",
    "ansatz.decompose().draw('latex', style='iqx')"
   ]
  },
  {
   "cell_type": "markdown",
   "id": "1f96f5d2",
   "metadata": {},
   "source": [
    "Scegliamo l'ottimizzatore per il VQE fra `SPSA`, `COBYLA` ecc.: "
   ]
  },
  {
   "cell_type": "code",
   "execution_count": 14,
   "id": "e824f239",
   "metadata": {},
   "outputs": [],
   "source": [
    "import numpy as np\n",
    "from qiskit.algorithms.optimizers import SPSA\n",
    "\n",
    "optimizer = SPSA(maxiter=50)\n",
    "\n",
    "np.random.seed(10)  # seed for reproducibility\n",
    "initial_point = np.random.random(ansatz.num_parameters)"
   ]
  },
  {
   "cell_type": "markdown",
   "id": "de38a47b",
   "metadata": {},
   "source": [
    "Costruiamo la funzione per il VQE con ansatz, ottimizzatore, stato iniziale, \"quantum instance\" e funzione di callback scelti e facciamo eseguire il VQE con i parametri scelti:"
   ]
  },
  {
   "cell_type": "code",
   "execution_count": 24,
   "id": "8af9818a",
   "metadata": {},
   "outputs": [
    {
     "data": {
      "text/plain": [
       "'15a iterazione di 15'"
      ]
     },
     "metadata": {},
     "output_type": "display_data"
    }
   ],
   "source": [
    "from qiskit.providers.basicaer import QasmSimulatorPy  # local simulator\n",
    "\n",
    "local_vqe = VQE(ansatz=ansatz,\n",
    "                optimizer=optimizer,\n",
    "                initial_point=initial_point,\n",
    "                quantum_instance=QasmSimulatorPy(),\n",
    "                callback=callback)\n",
    "\n",
    "qGSEigE, meanerr = VQE_par_H_diagonalizer(local_vqe,qH)"
   ]
  },
  {
   "cell_type": "markdown",
   "id": "59a2a3da",
   "metadata": {},
   "source": [
    "Visualizzo stime delle energie dei GS e stime degli errori:"
   ]
  },
  {
   "cell_type": "code",
   "execution_count": 25,
   "id": "4eb92b36",
   "metadata": {},
   "outputs": [
    {
     "name": "stdout",
     "output_type": "stream",
     "text": [
      "Eigenvalues: Mean error:\n",
      "-3.6468750000000005 0.07565569554172623\n",
      "-3.1710937500000007 0.07668785159229637\n",
      "-2.882254464285714 0.06751227951591234\n",
      "-2.6707589285714284 0.06336432933768091\n",
      "-2.3654575892857146 0.05858629812486438\n",
      "-2.938783482142857 0.013242091740670812\n",
      "-2.0961495535714283 0.03562040195334451\n",
      "-2.962890625 0.010485797211423812\n",
      "-2.9140625 0.01613393315304551\n",
      "-2.9853236607142857 0.007244245227395168\n",
      "-2.948437499999999 0.01787061864009287\n",
      "-2.211272321428572 0.06906736784221745\n",
      "-2.9157366071428577 0.0696505857552867\n",
      "-3.2616629464285722 0.07529171058308166\n",
      "-3.5800781249999996 0.07805842328478921\n"
     ]
    }
   ],
   "source": [
    "print('Eigenvalues:','Mean error:')\n",
    "for i in range(len(qGSEigE)):\n",
    "    print(qGSEigE[i],meanerr[i])"
   ]
  },
  {
   "cell_type": "markdown",
   "id": "61275ca9",
   "metadata": {},
   "source": [
    "Visualizzo il grafico con i risultati classici e della VQE:"
   ]
  },
  {
   "cell_type": "code",
   "execution_count": 30,
   "id": "2e69dd54",
   "metadata": {
    "scrolled": false
   },
   "outputs": [
    {
     "data": {
      "image/png": "[encoded data removed]",
      "text/plain": [
       "<Figure size 900x600 with 1 Axes>"
      ]
     },
     "metadata": {
      "needs_background": "light"
     },
     "output_type": "display_data"
    }
   ],
   "source": [
    "plot_tot([cGSEigE, EigE, qGSEigE])"
   ]
  },
  {
   "cell_type": "code",
   "execution_count": null,
   "id": "bd938461",
   "metadata": {},
   "outputs": [],
   "source": []
  }
 ],
 "metadata": {
  "kernelspec": {
   "display_name": "Python 3",
   "language": "python",
   "name": "python3"
  },
  "language_info": {
   "codemirror_mode": {
    "name": "ipython",
    "version": 3
   },
   "file_extension": ".py",
   "mimetype": "text/x-python",
   "name": "python",
   "nbconvert_exporter": "python",
   "pygments_lexer": "ipython3",
   "version": "3.8.8"
  }
 },
 "nbformat": 4,
 "nbformat_minor": 5
}
