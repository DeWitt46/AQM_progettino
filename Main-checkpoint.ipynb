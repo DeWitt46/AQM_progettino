{
 "cells": [
  {
   "cell_type": "markdown",
   "id": "170d702c",
   "metadata": {},
   "source": [
    "# Progettino AQM"
   ]
  },
  {
   "cell_type": "markdown",
   "id": "8bf56f67",
   "metadata": {},
   "source": [
    "# Alla ricerca dell' autovalore dell'hamiltoniana dello stato fondamentale\n",
    "\n",
    "#### Autori:\n",
    "Dott. Michele Grossi<br>\n",
    "Francesco De Luca<br>\n",
    "Ian Gremese<br>\n",
    "Carlo Zollo"
   ]
  },
  {
   "cell_type": "markdown",
   "id": "bbb5cf16",
   "metadata": {},
   "source": [
    "### Armamentario generale, da caricare prima delle diverse operazioni"
   ]
  },
  {
   "cell_type": "markdown",
   "id": "e3ff5523",
   "metadata": {},
   "source": [
    "#### Diagonalizzazione computazionale \"classica\""
   ]
  },
  {
   "cell_type": "markdown",
   "id": "462ede67",
   "metadata": {},
   "source": [
    "Codice funzionale alla compilazione delle hamiltoniane da diagonalizzare."
   ]
  },
  {
   "cell_type": "code",
   "execution_count": 1,
   "id": "9be4b5da",
   "metadata": {},
   "outputs": [],
   "source": [
    "from qiskit.quantum_info.operators import Operator, Pauli\n",
    "\n",
    "Xp = Operator(Pauli('X'))\n",
    "Zp = Operator(Pauli('Z'))\n",
    "Yp = Operator(Pauli('Y'))\n",
    "Id = Operator(Pauli('I'))"
   ]
  },
  {
   "cell_type": "code",
   "execution_count": 2,
   "id": "659d5e07",
   "metadata": {},
   "outputs": [],
   "source": [
    "#cH = []\n",
    "#B = np.linspace(-3,3,10).tolist()\n",
    "#for k in B:\n",
    "#    cH.append(J * (Xp.tensor(Xp) + gy*Yp.tensor(Yp) +gz* Zp.tensor(Zp)) +\\\n",
    "#        k * (Zp.tensor(Id) + Id.tensor(Zp)))\n",
    "    #cH.append(X)\n",
    "#cH    "
   ]
  },
  {
   "cell_type": "markdown",
   "id": "698b4eb0",
   "metadata": {},
   "source": [
    "Funzione per la diagonalizzazione classica di una lista di lunghezza variabile di operatori $\\hat H$, che ha la forma `([H0, H1, H2, ...], )`."
   ]
  },
  {
   "cell_type": "code",
   "execution_count": 3,
   "id": "de4ff67b",
   "metadata": {},
   "outputs": [],
   "source": [
    "import numpy as np\n",
    "from numpy import linalg\n",
    "\n",
    "def class_par_H_diagonalizer(*H):\n",
    "    E_l = []\n",
    "    P_l = []\n",
    "    Eivals = []\n",
    "    GSvals = []\n",
    "    num_qubits = 2\n",
    "\n",
    "    for k in H[0]: #H is ([H0, H1, ...],), so Hj can be selected as H[0][j]\n",
    "        E_l, P_l = linalg.eig(k.data)\n",
    "        E_l = np.real(E_l)\n",
    "        Eivals.append(np.sort(E_l))\n",
    "        GSvals.append(np.min(E_l))\n",
    "        \n",
    "    return GSvals, Eivals"
   ]
  },
  {
   "cell_type": "markdown",
   "id": "882412c8",
   "metadata": {},
   "source": [
    "Funzione per il grafico dei soli valori della diagonalizzazione classica."
   ]
  },
  {
   "cell_type": "code",
   "execution_count": 4,
   "id": "7b34c24c",
   "metadata": {},
   "outputs": [],
   "source": [
    "import matplotlib.pyplot as plt\n",
    "\n",
    "def plot_class(lists):\n",
    "\n",
    "    #plt.rcParams[\"figure.figsize\"] = (20,10)\n",
    "    fig, ax = plt.subplots(figsize=(9,6), dpi=100)#, fontsize=8)\n",
    "\n",
    "    plt.xticks(B)\n",
    "\n",
    "    #ax.scatter(b, energy, marker='o')\n",
    "    ax.scatter(B, lists[0], marker='o')\n",
    "    ax.plot(B, lists[1], color=\"#000000\", linewidth=1)\n",
    "\n",
    "    ax.set(xlabel='B field', ylabel='Energy', title='')\n",
    "\n",
    "    ax.grid()\n",
    "    plt.show()"
   ]
  },
  {
   "cell_type": "markdown",
   "id": "121fc0a9",
   "metadata": {},
   "source": [
    "#### Diagonalizzazione quantistica con il VQE"
   ]
  },
  {
   "cell_type": "markdown",
   "id": "56eb3167",
   "metadata": {},
   "source": [
    "Codice per la scrittura delle hamiltoniane da diagonalizzare:"
   ]
  },
  {
   "cell_type": "code",
   "execution_count": 5,
   "id": "1ca9745c",
   "metadata": {},
   "outputs": [],
   "source": [
    "import numpy as np\n",
    "from numpy import linalg\n",
    "from qiskit.opflow import X, Y, Z, I"
   ]
  },
  {
   "cell_type": "markdown",
   "id": "407cdb0a",
   "metadata": {},
   "source": [
    "Funzione che cerca il minimo autovalore dell'hamiltoniana (simulazione locale del sistema):"
   ]
  },
  {
   "cell_type": "code",
   "execution_count": 6,
   "id": "f690dc21",
   "metadata": {},
   "outputs": [],
   "source": [
    "from IPython.display import display as ipd_display, clear_output as ipd_clear\n",
    "from qiskit.algorithms import VQE\n",
    "\n",
    "def VQE_par_H_diagonalizer(local_vqe,*H):\n",
    "    \n",
    "    GSvals = []\n",
    "    meanerr = []\n",
    "    \n",
    "    for i in range(len(H[0])):\n",
    "        ipd_clear(wait=True)\n",
    "        ipd_display(\"%da iterazione di %d\"%(i+1,len(H[0])))\n",
    "    \n",
    "        local_result = local_vqe.compute_minimum_eigenvalue(H[0][i])\n",
    "        GSvals.append(np.real(local_result.eigenvalue))\n",
    "        \n",
    "        meanerr.append(intermediate_info['stddev'][-1])\n",
    "        \n",
    "    return GSvals, meanerr"
   ]
  },
  {
   "cell_type": "markdown",
   "id": "0b4cb49f",
   "metadata": {},
   "source": [
    "Funzione per la raccolta di dati intermedi relativi all'ottimizzazione del VQE:"
   ]
  },
  {
   "cell_type": "code",
   "execution_count": 7,
   "id": "a8f4b864",
   "metadata": {},
   "outputs": [],
   "source": [
    "intermediate_info = {\n",
    "    'nfev': [],\n",
    "    'parameters': [],\n",
    "    'energy': [],\n",
    "    'stddev': []\n",
    "}\n",
    "\n",
    "def callback(nfev, parameters, energy, stddev):\n",
    "    intermediate_info['nfev'].append(nfev)\n",
    "    intermediate_info['parameters'].append(parameters)\n",
    "    intermediate_info['energy'].append(energy)\n",
    "    intermediate_info['stddev'].append(stddev)"
   ]
  },
  {
   "cell_type": "code",
   "execution_count": 8,
   "id": "67a13e88",
   "metadata": {},
   "outputs": [],
   "source": [
    "#import matplotlib as mpl\n",
    "#mpl.rcParams.update({'font.family': 'Linux Libertine', 'text.latex.preamble': r'\\usepackage{lmr}',})"
   ]
  },
  {
   "cell_type": "markdown",
   "id": "3ef995c2",
   "metadata": {},
   "source": [
    "Funzione per il grafico dei valori della diagonalizzazione classica e quantistica:"
   ]
  },
  {
   "cell_type": "code",
   "execution_count": 9,
   "id": "2cdfa673",
   "metadata": {},
   "outputs": [],
   "source": [
    "import matplotlib.pyplot as plt\n",
    "\n",
    "def plot_tot(lists):\n",
    "\n",
    "    #plt.rcParams[\"figure.figsize\"] = (20,10)\n",
    "    fig, ax = plt.subplots(figsize=(9,6), dpi=100)\n",
    "\n",
    "    plt.xticks(B)\n",
    "\n",
    "    #ax.scatter(b, energy, marker='o')\n",
    "    ax.scatter(B, lists[0], marker='o')\n",
    "    ax.plot(B, lists[1], color=\"#000000\", linewidth=0.5)\n",
    "    \n",
    "    #itero sulle diverse tecniche che ho utilizzato\n",
    "    for i in range(2,len(lists)):\n",
    "        ax.scatter(B, lists[i], marker='x')\n",
    "\n",
    "    ax.set(xlabel='B field', ylabel='Energy', title='')\n",
    "\n",
    "    ax.grid()\n",
    "    plt.show()"
   ]
  },
  {
   "cell_type": "markdown",
   "id": "7146b1c4",
   "metadata": {},
   "source": [
    "## Hamiltoniana n. 2: Interazioni anisotrope fra spin in campo magnetico $B$\n",
    "\n",
    "$$\\hat H = - \\sum_{i,j=1\\\\i<j}^n J\\left( \\hat X^{(i)}\\hat X^{(j)} + \\gamma_y\\hat Y^{(i)}\\hat Y^{(j)} + \\gamma_z\\hat Z^{(i)}\\hat Z^{(j)} \\right) - B \\sum_{i=1}^n Z^{(i)}$$"
   ]
  },
  {
   "cell_type": "markdown",
   "id": "4f30dc02",
   "metadata": {},
   "source": [
    "### Diagonalizzazione computazionale \"classica\""
   ]
  },
  {
   "cell_type": "markdown",
   "id": "bc6eb97c",
   "metadata": {},
   "source": [
    "#### Costruzione di $\\hat H$\n",
    "Costruiamo la lista delle hamiltoniane sui diversi valori di B:"
   ]
  },
  {
   "cell_type": "code",
   "execution_count": 10,
   "id": "84b97f32",
   "metadata": {},
   "outputs": [],
   "source": [
    "cH = []\n",
    "J = -5.\n",
    "gy = 0.5\n",
    "gz = 0\n",
    "B = np.linspace(-3,3,5).tolist()\n",
    "for k in B:\n",
    "    cH.append(J * (Xp.tensor(Xp) + gy*Yp.tensor(Yp) +gz* Zp.tensor(Zp)) +\\\n",
    "        k * (Zp.tensor(Id) + Id.tensor(Zp)))"
   ]
  },
  {
   "cell_type": "code",
   "execution_count": 11,
   "id": "76097334",
   "metadata": {},
   "outputs": [],
   "source": [
    "#cH = []\n",
    "#J = -1\n",
    "#gy = 5\n",
    "#gz = 0.5\n",
    "#B = np.linspace(-3,3,30).tolist()\n",
    "#for k in B:\n",
    "#    cH.append(J * (Xp.tensor(Xp) + gy*Yp.tensor(Yp) +gz* Zp.tensor(Zp)) +\\\n",
    "#        k * (Zp.tensor(Id) + Id.tensor(Zp)))\n",
    "#    cH.append(k * Id)"
   ]
  },
  {
   "cell_type": "markdown",
   "id": "bfe37324",
   "metadata": {},
   "source": [
    "#### Algoritmo"
   ]
  },
  {
   "cell_type": "markdown",
   "id": "03a22b93",
   "metadata": {},
   "source": [
    "Invochiamo la funzione per la diagonalizzazione classica computazionale:"
   ]
  },
  {
   "cell_type": "code",
   "execution_count": 12,
   "id": "f7e35c59",
   "metadata": {},
   "outputs": [],
   "source": [
    "cGSEigE, EigE = class_par_H_diagonalizer(cH)"
   ]
  },
  {
   "cell_type": "markdown",
   "id": "4f001d9b",
   "metadata": {},
   "source": [
    "Visualizziamo il grafico degli autovalori determinati classicamente:"
   ]
  },
  {
   "cell_type": "code",
   "execution_count": 13,
   "id": "1a5b9d9f",
   "metadata": {},
   "outputs": [
    {
     "data": {
      "image/png": "[encoded data removed]",
      "text/plain": [
       "<Figure size 900x600 with 1 Axes>"
      ]
     },
     "metadata": {
      "needs_background": "light"
     },
     "output_type": "display_data"
    }
   ],
   "source": [
    "plot_class([cGSEigE, EigE])"
   ]
  },
  {
   "cell_type": "markdown",
   "id": "c843d1e1",
   "metadata": {},
   "source": [
    "### Diagonalizzazione quantistica con il VQE"
   ]
  },
  {
   "cell_type": "markdown",
   "id": "218facc2",
   "metadata": {},
   "source": [
    "#### Costruzione di $\\hat H$\n",
    "Costruiamo la lista delle hamiltoniane sui diversi valori di B:"
   ]
  },
  {
   "cell_type": "code",
   "execution_count": 14,
   "id": "8532ddf0",
   "metadata": {},
   "outputs": [],
   "source": [
    "qH = []\n",
    "J = -5.\n",
    "gy = 0.5\n",
    "gz = 0.\n",
    "B = np.linspace(-3,3,5).tolist()\n",
    "    \n",
    "for k in B:\n",
    "    hspinz = J * ( (X^X) + gy*(Y^Y) + gz*(Z^Z) )\n",
    "    hfield = k * ( Z^I ) + k * ( I^Z )\n",
    "    qH = qH + [(hspinz + hfield)]"
   ]
  },
  {
   "cell_type": "markdown",
   "id": "35c579f6",
   "metadata": {},
   "source": [
    "#### Algoritmo"
   ]
  },
  {
   "cell_type": "markdown",
   "id": "375310d0",
   "metadata": {},
   "source": [
    "Facciamo una scelta dell'ansatz, fra `EfficientSU2` ecc., impostandone i parametri secondo la definizione che abbiamo dato al nostro problema."
   ]
  },
  {
   "cell_type": "code",
   "execution_count": 15,
   "id": "53fcfdd2",
   "metadata": {},
   "outputs": [
    {
     "data": {
      "image/png": "[encoded data removed]",
      "text/plain": [
       "<PIL.Image.Image image mode=RGB size=612x80 at 0x118BF9D0>"
      ]
     },
     "execution_count": 15,
     "metadata": {},
     "output_type": "execute_result"
    }
   ],
   "source": [
    "from qiskit.circuit.library import EfficientSU2\n",
    "\n",
    "num_qubits = 2\n",
    "# the rotation gates are chosen randomly, so we set a seed for reproducibility\n",
    "ansatz = EfficientSU2(num_qubits, reps=1, entanglement='linear', insert_barriers=True) \n",
    "ansatz.decompose().draw('latex', style='iqx')"
   ]
  },
  {
   "cell_type": "markdown",
   "id": "1f96f5d2",
   "metadata": {},
   "source": [
    "Scegliamo l'ottimizzatore per il VQE fra `SPSA`, `COBYLA` ecc.: "
   ]
  },
  {
   "cell_type": "code",
   "execution_count": 16,
   "id": "e824f239",
   "metadata": {},
   "outputs": [],
   "source": [
    "import numpy as np\n",
    "from qiskit.algorithms.optimizers import SPSA\n",
    "\n",
    "optimizer = SPSA(maxiter=50)\n",
    "\n",
    "np.random.seed(10)  # seed for reproducibility\n",
    "initial_point = np.random.random(ansatz.num_parameters)"
   ]
  },
  {
   "cell_type": "markdown",
   "id": "de38a47b",
   "metadata": {},
   "source": [
    "Costruiamo la funzione per il VQE con ansatz, ottimizzatore, stato iniziale, \"quantum instance\" e funzione di callback scelti e facciamo eseguire il VQE con i parametri scelti:"
   ]
  },
  {
   "cell_type": "code",
   "execution_count": 17,
   "id": "8af9818a",
   "metadata": {},
   "outputs": [
    {
     "data": {
      "text/plain": [
       "'5a iterazione di 5'"
      ]
     },
     "metadata": {},
     "output_type": "display_data"
    }
   ],
   "source": [
    "from qiskit.providers.basicaer import QasmSimulatorPy  # local simulator\n",
    "\n",
    "local_vqe = VQE(ansatz=ansatz,\n",
    "                optimizer=optimizer,\n",
    "                initial_point=initial_point,\n",
    "                quantum_instance=QasmSimulatorPy(),\n",
    "                callback=callback)\n",
    "\n",
    "qGSEigE, meanerr = VQE_par_H_diagonalizer(local_vqe,qH)"
   ]
  },
  {
   "cell_type": "markdown",
   "id": "59a2a3da",
   "metadata": {},
   "source": [
    "Visualizzo stime delle energie dei GS e stime degli errori:"
   ]
  },
  {
   "cell_type": "code",
   "execution_count": 18,
   "id": "4eb92b36",
   "metadata": {
    "scrolled": true
   },
   "outputs": [
    {
     "name": "stdout",
     "output_type": "stream",
     "text": [
      "Eigenvalues: Mean error:\n",
      "-6.8330078125 0.1789544301977567\n",
      "-7.4365234375 0.030644070735507862\n",
      "-6.181640625 0.06989191681529164\n",
      "-7.4453125 0.0326777860365075\n",
      "-6.607421875 0.17718133715520087\n"
     ]
    }
   ],
   "source": [
    "print('Eigenvalues:','Mean error:')\n",
    "for i in range(len(qGSEigE)):\n",
    "    print(qGSEigE[i],meanerr[i])"
   ]
  },
  {
   "cell_type": "markdown",
   "id": "61275ca9",
   "metadata": {},
   "source": [
    "Visualizzo il grafico con i risultati classici e della VQE:"
   ]
  },
  {
   "cell_type": "code",
   "execution_count": 19,
   "id": "2e69dd54",
   "metadata": {
    "scrolled": false
   },
   "outputs": [
    {
     "data": {
      "image/png": "[encoded data removed]",
      "text/plain": [
       "<Figure size 900x600 with 1 Axes>"
      ]
     },
     "metadata": {
      "needs_background": "light"
     },
     "output_type": "display_data"
    }
   ],
   "source": [
    "plot_tot([cGSEigE, EigE, qGSEigE])"
   ]
  },
  {
   "cell_type": "markdown",
   "id": "1d33ea06",
   "metadata": {},
   "source": [
    "## Hardware Reale"
   ]
  },
  {
   "cell_type": "markdown",
   "id": "0fa5ccc9",
   "metadata": {},
   "source": [
    "Carichiamo il provider con accesso a IBM e il backend per eseguire il circuito (scegliamo l'hardware a piacere)"
   ]
  },
  {
   "cell_type": "code",
   "execution_count": 21,
   "id": "23908010",
   "metadata": {},
   "outputs": [
    {
     "name": "stderr",
     "output_type": "stream",
     "text": [
      "ibmqfactory.load_account:WARNING:2022-01-04 16:21:21,246: Credentials are already in use. The existing account in the session will be replaced.\n"
     ]
    },
    {
     "name": "stdout",
     "output_type": "stream",
     "text": [
      "{'backend_name': 'ibmq_qasm_simulator', 'backend_version': '0.1.547', 'operational': True, 'pending_jobs': 10, 'status_msg': 'active'}\n",
      "{'backend_name': 'ibmq_armonk', 'backend_version': '2.4.26', 'operational': True, 'pending_jobs': 0, 'status_msg': 'active'}\n",
      "{'backend_name': 'ibmq_santiago', 'backend_version': '1.3.43', 'operational': False, 'pending_jobs': 2051, 'status_msg': 'maintenance'}\n",
      "{'backend_name': 'ibmq_bogota', 'backend_version': '1.6.16', 'operational': True, 'pending_jobs': 64, 'status_msg': 'internal'}\n",
      "{'backend_name': 'ibmq_lima', 'backend_version': '1.0.27', 'operational': True, 'pending_jobs': 30, 'status_msg': 'active'}\n",
      "{'backend_name': 'ibmq_belem', 'backend_version': '1.0.30', 'operational': True, 'pending_jobs': 28, 'status_msg': 'active'}\n",
      "{'backend_name': 'ibmq_quito', 'backend_version': '1.1.20', 'operational': True, 'pending_jobs': 11, 'status_msg': 'active'}\n",
      "{'backend_name': 'simulator_statevector', 'backend_version': '0.1.547', 'operational': True, 'pending_jobs': 11, 'status_msg': 'active'}\n",
      "{'backend_name': 'simulator_mps', 'backend_version': '0.1.547', 'operational': True, 'pending_jobs': 11, 'status_msg': 'active'}\n",
      "{'backend_name': 'simulator_extended_stabilizer', 'backend_version': '0.1.547', 'operational': True, 'pending_jobs': 11, 'status_msg': 'active'}\n",
      "{'backend_name': 'simulator_stabilizer', 'backend_version': '0.1.547', 'operational': True, 'pending_jobs': 11, 'status_msg': 'active'}\n",
      "{'backend_name': 'ibmq_manila', 'backend_version': '1.0.22', 'operational': True, 'pending_jobs': 17, 'status_msg': 'active'}\n"
     ]
    }
   ],
   "source": [
    "# Import the module needed to access IBM Quantum\n",
    "from qiskit import IBMQ\n",
    "#from qiskit import Aer, execute\n",
    "#from qiskit.tools.jupyter import *\n",
    "#from qiskit.visualization import *\n",
    "\n",
    "# Load your IBM Quantum account or enable the account if it's not previously saved.\n",
    "IBMQ.load_account()\n",
    "provider = IBMQ.get_provider(hub='ibm-q')  # replace by your designated provider\n",
    "# provider = IBMQ.enable_account(MY_TOKEN)\n",
    "\n",
    "for backend in provider.backends():    #vediamo i device disponibili\n",
    "    print(backend.status().to_dict())\n",
    "\n",
    "backend = provider.get_backend('ibmq_lima')   #device da scegliere"
   ]
  },
  {
   "cell_type": "markdown",
   "id": "ea39cc33",
   "metadata": {},
   "source": [
    "Resettiamo la funzione per le info intermedie (callback)"
   ]
  },
  {
   "cell_type": "code",
   "execution_count": 22,
   "id": "7dc9ee52",
   "metadata": {},
   "outputs": [],
   "source": [
    "intermediate_info = {\n",
    "    'nfev': [],\n",
    "    'parameters': [],\n",
    "    'energy': [],\n",
    "    'stddev': []\n",
    "}\n",
    "\n",
    "def callback(nfev, parameters, energy, stddev):\n",
    "    intermediate_info['nfev'].append(nfev)\n",
    "    intermediate_info['parameters'].append(parameters)\n",
    "    intermediate_info['energy'].append(energy)\n",
    "    intermediate_info['stddev'].append(stddev)"
   ]
  },
  {
   "cell_type": "markdown",
   "id": "a8cd6974",
   "metadata": {},
   "source": [
    "Visto che utilizziamo hardware reale possiamo scegliere di abilitare la mitigazione di errori di misurazione"
   ]
  },
  {
   "cell_type": "code",
   "execution_count": 23,
   "id": "70160577",
   "metadata": {},
   "outputs": [],
   "source": [
    "measurement_error_mitigation = True"
   ]
  },
  {
   "cell_type": "markdown",
   "id": "66b0f938",
   "metadata": {},
   "source": [
    "Eseguiamo la funzione per il VQE su HW reale e prendiamo GS "
   ]
  },
  {
   "cell_type": "code",
   "execution_count": 24,
   "id": "d785c073",
   "metadata": {},
   "outputs": [
    {
     "data": {
      "text/plain": [
       "'1a iterazione di 5'"
      ]
     },
     "metadata": {},
     "output_type": "display_data"
    },
    {
     "ename": "RequestsApiError",
     "evalue": "'400 Client Error: Bad Request for url: https://runtime-us-east.quantum-computing.ibm.com/jobs. {\"errors\":[{\"code\":\"bad_request\",\"message\":\"models.ProgramRunParams.Params: ReadMapCB: expect { or n, but found [, error found in #10 byte of ...|params\\\\\": [\\\\\"{\\\\\\\\\\\\\"operat|..., bigger context ...|ject\\\\\": \\\\\"main\\\\\", \\\\\"backend\\\\\": \\\\\"ibmq_lima\\\\\", \\\\\"params\\\\\": [\\\\\"{\\\\\\\\\\\\\"operator\\\\\\\\\\\\\": {\\\\\\\\\\\\\"__type__\\\\\\\\\\\\\": \\\\\\\\\\\\\"settings\\\\\\\\\\\\\", \\\\\\\\\\\\\"__m|...\",\"more_info\":\"https://cloud.ibm.com/apidocs/quantum-computing#error-handling\"}],\"trace\":\"c7a6c356m4ar19kib5hg\"}'",
     "output_type": "error",
     "traceback": [
      "\u001b[1;31m---------------------------------------------------------------------------\u001b[0m",
      "\u001b[1;31mHTTPError\u001b[0m                                 Traceback (most recent call last)",
      "\u001b[1;32m~\\anaconda3\\lib\\site-packages\\qiskit\\providers\\ibmq\\api\\session.py\u001b[0m in \u001b[0;36mrequest\u001b[1;34m(self, method, url, bare, **kwargs)\u001b[0m\n\u001b[0;32m    277\u001b[0m             \u001b[0mresponse\u001b[0m \u001b[1;33m=\u001b[0m \u001b[0msuper\u001b[0m\u001b[1;33m(\u001b[0m\u001b[1;33m)\u001b[0m\u001b[1;33m.\u001b[0m\u001b[0mrequest\u001b[0m\u001b[1;33m(\u001b[0m\u001b[0mmethod\u001b[0m\u001b[1;33m,\u001b[0m \u001b[0mfinal_url\u001b[0m\u001b[1;33m,\u001b[0m \u001b[0mheaders\u001b[0m\u001b[1;33m=\u001b[0m\u001b[0mheaders\u001b[0m\u001b[1;33m,\u001b[0m \u001b[1;33m**\u001b[0m\u001b[0mkwargs\u001b[0m\u001b[1;33m)\u001b[0m\u001b[1;33m\u001b[0m\u001b[1;33m\u001b[0m\u001b[0m\n\u001b[1;32m--> 278\u001b[1;33m             \u001b[0mresponse\u001b[0m\u001b[1;33m.\u001b[0m\u001b[0mraise_for_status\u001b[0m\u001b[1;33m(\u001b[0m\u001b[1;33m)\u001b[0m\u001b[1;33m\u001b[0m\u001b[1;33m\u001b[0m\u001b[0m\n\u001b[0m\u001b[0;32m    279\u001b[0m         \u001b[1;32mexcept\u001b[0m \u001b[0mRequestException\u001b[0m \u001b[1;32mas\u001b[0m \u001b[0mex\u001b[0m\u001b[1;33m:\u001b[0m\u001b[1;33m\u001b[0m\u001b[1;33m\u001b[0m\u001b[0m\n",
      "\u001b[1;32m~\\anaconda3\\lib\\site-packages\\requests\\models.py\u001b[0m in \u001b[0;36mraise_for_status\u001b[1;34m(self)\u001b[0m\n\u001b[0;32m    942\u001b[0m         \u001b[1;32mif\u001b[0m \u001b[0mhttp_error_msg\u001b[0m\u001b[1;33m:\u001b[0m\u001b[1;33m\u001b[0m\u001b[1;33m\u001b[0m\u001b[0m\n\u001b[1;32m--> 943\u001b[1;33m             \u001b[1;32mraise\u001b[0m \u001b[0mHTTPError\u001b[0m\u001b[1;33m(\u001b[0m\u001b[0mhttp_error_msg\u001b[0m\u001b[1;33m,\u001b[0m \u001b[0mresponse\u001b[0m\u001b[1;33m=\u001b[0m\u001b[0mself\u001b[0m\u001b[1;33m)\u001b[0m\u001b[1;33m\u001b[0m\u001b[1;33m\u001b[0m\u001b[0m\n\u001b[0m\u001b[0;32m    944\u001b[0m \u001b[1;33m\u001b[0m\u001b[0m\n",
      "\u001b[1;31mHTTPError\u001b[0m: 400 Client Error: Bad Request for url: https://runtime-us-east.quantum-computing.ibm.com/jobs",
      "\nThe above exception was the direct cause of the following exception:\n",
      "\u001b[1;31mRequestsApiError\u001b[0m                          Traceback (most recent call last)",
      "\u001b[1;32m<ipython-input-24-14676f8c373a>\u001b[0m in \u001b[0;36m<module>\u001b[1;34m\u001b[0m\n\u001b[0;32m     15\u001b[0m                          callback=callback)\n\u001b[0;32m     16\u001b[0m \u001b[1;33m\u001b[0m\u001b[0m\n\u001b[1;32m---> 17\u001b[1;33m \u001b[0mHW_GSEigE\u001b[0m\u001b[1;33m,\u001b[0m \u001b[0mHW_meanerr\u001b[0m \u001b[1;33m=\u001b[0m \u001b[0mVQE_par_H_diagonalizer\u001b[0m\u001b[1;33m(\u001b[0m\u001b[0mruntime_vqe\u001b[0m\u001b[1;33m,\u001b[0m\u001b[0mqH\u001b[0m\u001b[1;33m)\u001b[0m\u001b[1;33m\u001b[0m\u001b[1;33m\u001b[0m\u001b[0m\n\u001b[0m",
      "\u001b[1;32m<ipython-input-6-70c20cba560e>\u001b[0m in \u001b[0;36mVQE_par_H_diagonalizer\u001b[1;34m(local_vqe, *H)\u001b[0m\n\u001b[0;32m     11\u001b[0m         \u001b[0mipd_display\u001b[0m\u001b[1;33m(\u001b[0m\u001b[1;34m\"%da iterazione di %d\"\u001b[0m\u001b[1;33m%\u001b[0m\u001b[1;33m(\u001b[0m\u001b[0mi\u001b[0m\u001b[1;33m+\u001b[0m\u001b[1;36m1\u001b[0m\u001b[1;33m,\u001b[0m\u001b[0mlen\u001b[0m\u001b[1;33m(\u001b[0m\u001b[0mH\u001b[0m\u001b[1;33m[\u001b[0m\u001b[1;36m0\u001b[0m\u001b[1;33m]\u001b[0m\u001b[1;33m)\u001b[0m\u001b[1;33m)\u001b[0m\u001b[1;33m)\u001b[0m\u001b[1;33m\u001b[0m\u001b[1;33m\u001b[0m\u001b[0m\n\u001b[0;32m     12\u001b[0m \u001b[1;33m\u001b[0m\u001b[0m\n\u001b[1;32m---> 13\u001b[1;33m         \u001b[0mlocal_result\u001b[0m \u001b[1;33m=\u001b[0m \u001b[0mlocal_vqe\u001b[0m\u001b[1;33m.\u001b[0m\u001b[0mcompute_minimum_eigenvalue\u001b[0m\u001b[1;33m(\u001b[0m\u001b[0mH\u001b[0m\u001b[1;33m[\u001b[0m\u001b[1;36m0\u001b[0m\u001b[1;33m]\u001b[0m\u001b[1;33m[\u001b[0m\u001b[0mi\u001b[0m\u001b[1;33m]\u001b[0m\u001b[1;33m)\u001b[0m\u001b[1;33m\u001b[0m\u001b[1;33m\u001b[0m\u001b[0m\n\u001b[0m\u001b[0;32m     14\u001b[0m         \u001b[0mGSvals\u001b[0m\u001b[1;33m.\u001b[0m\u001b[0mappend\u001b[0m\u001b[1;33m(\u001b[0m\u001b[0mnp\u001b[0m\u001b[1;33m.\u001b[0m\u001b[0mreal\u001b[0m\u001b[1;33m(\u001b[0m\u001b[0mlocal_result\u001b[0m\u001b[1;33m.\u001b[0m\u001b[0meigenvalue\u001b[0m\u001b[1;33m)\u001b[0m\u001b[1;33m)\u001b[0m\u001b[1;33m\u001b[0m\u001b[1;33m\u001b[0m\u001b[0m\n\u001b[0;32m     15\u001b[0m \u001b[1;33m\u001b[0m\u001b[0m\n",
      "\u001b[1;32m~\\anaconda3\\lib\\site-packages\\qiskit_nature\\runtime\\vqe_program.py\u001b[0m in \u001b[0;36mcompute_minimum_eigenvalue\u001b[1;34m(self, operator, aux_operators)\u001b[0m\n\u001b[0;32m     70\u001b[0m         \u001b[0mself\u001b[0m\u001b[1;33m,\u001b[0m \u001b[0moperator\u001b[0m\u001b[1;33m:\u001b[0m \u001b[0mOperatorBase\u001b[0m\u001b[1;33m,\u001b[0m \u001b[0maux_operators\u001b[0m\u001b[1;33m:\u001b[0m \u001b[0mOptional\u001b[0m\u001b[1;33m[\u001b[0m\u001b[0mList\u001b[0m\u001b[1;33m[\u001b[0m\u001b[0mOptional\u001b[0m\u001b[1;33m[\u001b[0m\u001b[0mOperatorBase\u001b[0m\u001b[1;33m]\u001b[0m\u001b[1;33m]\u001b[0m\u001b[1;33m]\u001b[0m \u001b[1;33m=\u001b[0m \u001b[1;32mNone\u001b[0m\u001b[1;33m\u001b[0m\u001b[1;33m\u001b[0m\u001b[0m\n\u001b[0;32m     71\u001b[0m     ) -> MinimumEigensolverResult:\n\u001b[1;32m---> 72\u001b[1;33m         \u001b[0mresult\u001b[0m \u001b[1;33m=\u001b[0m \u001b[0msuper\u001b[0m\u001b[1;33m(\u001b[0m\u001b[1;33m)\u001b[0m\u001b[1;33m.\u001b[0m\u001b[0mcompute_minimum_eigenvalue\u001b[0m\u001b[1;33m(\u001b[0m\u001b[0moperator\u001b[0m\u001b[1;33m,\u001b[0m \u001b[0maux_operators\u001b[0m\u001b[1;33m)\u001b[0m\u001b[1;33m\u001b[0m\u001b[1;33m\u001b[0m\u001b[0m\n\u001b[0m\u001b[0;32m     73\u001b[0m \u001b[1;33m\u001b[0m\u001b[0m\n\u001b[0;32m     74\u001b[0m         \u001b[1;31m# convert to previous result type\u001b[0m\u001b[1;33m\u001b[0m\u001b[1;33m\u001b[0m\u001b[1;33m\u001b[0m\u001b[0m\n",
      "\u001b[1;32m~\\anaconda3\\lib\\site-packages\\qiskit_nature\\runtime\\vqe_client.py\u001b[0m in \u001b[0;36mcompute_minimum_eigenvalue\u001b[1;34m(self, operator, aux_operators)\u001b[0m\n\u001b[0;32m    277\u001b[0m \u001b[1;33m\u001b[0m\u001b[0m\n\u001b[0;32m    278\u001b[0m         \u001b[1;31m# send job to runtime and return result\u001b[0m\u001b[1;33m\u001b[0m\u001b[1;33m\u001b[0m\u001b[1;33m\u001b[0m\u001b[0m\n\u001b[1;32m--> 279\u001b[1;33m         job = self.provider.runtime.run(\n\u001b[0m\u001b[0;32m    280\u001b[0m             \u001b[0mprogram_id\u001b[0m\u001b[1;33m=\u001b[0m\u001b[0mself\u001b[0m\u001b[1;33m.\u001b[0m\u001b[0mprogram_id\u001b[0m\u001b[1;33m,\u001b[0m\u001b[1;33m\u001b[0m\u001b[1;33m\u001b[0m\u001b[0m\n\u001b[0;32m    281\u001b[0m             \u001b[0minputs\u001b[0m\u001b[1;33m=\u001b[0m\u001b[0minputs\u001b[0m\u001b[1;33m,\u001b[0m\u001b[1;33m\u001b[0m\u001b[1;33m\u001b[0m\u001b[0m\n",
      "\u001b[1;32m~\\anaconda3\\lib\\site-packages\\qiskit\\providers\\ibmq\\runtime\\ibm_runtime_service.py\u001b[0m in \u001b[0;36mrun\u001b[1;34m(self, program_id, options, inputs, callback, result_decoder, image)\u001b[0m\n\u001b[0;32m    244\u001b[0m         \u001b[0mparams_str\u001b[0m \u001b[1;33m=\u001b[0m \u001b[0mjson\u001b[0m\u001b[1;33m.\u001b[0m\u001b[0mdumps\u001b[0m\u001b[1;33m(\u001b[0m\u001b[0minputs\u001b[0m\u001b[1;33m,\u001b[0m \u001b[0mcls\u001b[0m\u001b[1;33m=\u001b[0m\u001b[0mRuntimeEncoder\u001b[0m\u001b[1;33m)\u001b[0m\u001b[1;33m\u001b[0m\u001b[1;33m\u001b[0m\u001b[0m\n\u001b[0;32m    245\u001b[0m         \u001b[0mresult_decoder\u001b[0m \u001b[1;33m=\u001b[0m \u001b[0mresult_decoder\u001b[0m \u001b[1;32mor\u001b[0m \u001b[0mResultDecoder\u001b[0m\u001b[1;33m\u001b[0m\u001b[1;33m\u001b[0m\u001b[0m\n\u001b[1;32m--> 246\u001b[1;33m         response = self._api_client.program_run(program_id=program_id,\n\u001b[0m\u001b[0;32m    247\u001b[0m                                                 \u001b[0mcredentials\u001b[0m\u001b[1;33m=\u001b[0m\u001b[0mself\u001b[0m\u001b[1;33m.\u001b[0m\u001b[0m_provider\u001b[0m\u001b[1;33m.\u001b[0m\u001b[0mcredentials\u001b[0m\u001b[1;33m,\u001b[0m\u001b[1;33m\u001b[0m\u001b[1;33m\u001b[0m\u001b[0m\n\u001b[0;32m    248\u001b[0m                                                 \u001b[0mbackend_name\u001b[0m\u001b[1;33m=\u001b[0m\u001b[0mbackend_name\u001b[0m\u001b[1;33m,\u001b[0m\u001b[1;33m\u001b[0m\u001b[1;33m\u001b[0m\u001b[0m\n",
      "\u001b[1;32m~\\anaconda3\\lib\\site-packages\\qiskit\\providers\\ibmq\\api\\clients\\runtime.py\u001b[0m in \u001b[0;36mprogram_run\u001b[1;34m(self, program_id, credentials, backend_name, params, image)\u001b[0m\n\u001b[0;32m    143\u001b[0m             \u001b[0mJSON\u001b[0m \u001b[0mresponse\u001b[0m\u001b[1;33m.\u001b[0m\u001b[1;33m\u001b[0m\u001b[1;33m\u001b[0m\u001b[0m\n\u001b[0;32m    144\u001b[0m         \"\"\"\n\u001b[1;32m--> 145\u001b[1;33m         return self.api.program_run(program_id=program_id, hub=credentials.hub,\n\u001b[0m\u001b[0;32m    146\u001b[0m                                     \u001b[0mgroup\u001b[0m\u001b[1;33m=\u001b[0m\u001b[0mcredentials\u001b[0m\u001b[1;33m.\u001b[0m\u001b[0mgroup\u001b[0m\u001b[1;33m,\u001b[0m \u001b[0mproject\u001b[0m\u001b[1;33m=\u001b[0m\u001b[0mcredentials\u001b[0m\u001b[1;33m.\u001b[0m\u001b[0mproject\u001b[0m\u001b[1;33m,\u001b[0m\u001b[1;33m\u001b[0m\u001b[1;33m\u001b[0m\u001b[0m\n\u001b[0;32m    147\u001b[0m                                     \u001b[0mbackend_name\u001b[0m\u001b[1;33m=\u001b[0m\u001b[0mbackend_name\u001b[0m\u001b[1;33m,\u001b[0m \u001b[0mparams\u001b[0m\u001b[1;33m=\u001b[0m\u001b[0mparams\u001b[0m\u001b[1;33m,\u001b[0m\u001b[1;33m\u001b[0m\u001b[1;33m\u001b[0m\u001b[0m\n",
      "\u001b[1;32m~\\anaconda3\\lib\\site-packages\\qiskit\\providers\\ibmq\\api\\rest\\runtime.py\u001b[0m in \u001b[0;36mprogram_run\u001b[1;34m(self, program_id, hub, group, project, backend_name, params, image)\u001b[0m\n\u001b[0;32m    155\u001b[0m         }\n\u001b[0;32m    156\u001b[0m         \u001b[0mdata\u001b[0m \u001b[1;33m=\u001b[0m \u001b[0mjson\u001b[0m\u001b[1;33m.\u001b[0m\u001b[0mdumps\u001b[0m\u001b[1;33m(\u001b[0m\u001b[0mpayload\u001b[0m\u001b[1;33m)\u001b[0m\u001b[1;33m\u001b[0m\u001b[1;33m\u001b[0m\u001b[0m\n\u001b[1;32m--> 157\u001b[1;33m         \u001b[1;32mreturn\u001b[0m \u001b[0mself\u001b[0m\u001b[1;33m.\u001b[0m\u001b[0msession\u001b[0m\u001b[1;33m.\u001b[0m\u001b[0mpost\u001b[0m\u001b[1;33m(\u001b[0m\u001b[0murl\u001b[0m\u001b[1;33m,\u001b[0m \u001b[0mdata\u001b[0m\u001b[1;33m=\u001b[0m\u001b[0mdata\u001b[0m\u001b[1;33m)\u001b[0m\u001b[1;33m.\u001b[0m\u001b[0mjson\u001b[0m\u001b[1;33m(\u001b[0m\u001b[1;33m)\u001b[0m\u001b[1;33m\u001b[0m\u001b[1;33m\u001b[0m\u001b[0m\n\u001b[0m\u001b[0;32m    158\u001b[0m \u001b[1;33m\u001b[0m\u001b[0m\n\u001b[0;32m    159\u001b[0m     \u001b[1;32mdef\u001b[0m \u001b[0mjobs_get\u001b[0m\u001b[1;33m(\u001b[0m\u001b[0mself\u001b[0m\u001b[1;33m,\u001b[0m \u001b[0mlimit\u001b[0m\u001b[1;33m:\u001b[0m \u001b[0mint\u001b[0m \u001b[1;33m=\u001b[0m \u001b[1;32mNone\u001b[0m\u001b[1;33m,\u001b[0m \u001b[0mskip\u001b[0m\u001b[1;33m:\u001b[0m \u001b[0mint\u001b[0m \u001b[1;33m=\u001b[0m \u001b[1;32mNone\u001b[0m\u001b[1;33m,\u001b[0m \u001b[0mpending\u001b[0m\u001b[1;33m:\u001b[0m \u001b[0mbool\u001b[0m \u001b[1;33m=\u001b[0m \u001b[1;32mNone\u001b[0m\u001b[1;33m)\u001b[0m \u001b[1;33m->\u001b[0m \u001b[0mDict\u001b[0m\u001b[1;33m:\u001b[0m\u001b[1;33m\u001b[0m\u001b[1;33m\u001b[0m\u001b[0m\n",
      "\u001b[1;32m~\\anaconda3\\lib\\site-packages\\requests\\sessions.py\u001b[0m in \u001b[0;36mpost\u001b[1;34m(self, url, data, json, **kwargs)\u001b[0m\n\u001b[0;32m    588\u001b[0m         \"\"\"\n\u001b[0;32m    589\u001b[0m \u001b[1;33m\u001b[0m\u001b[0m\n\u001b[1;32m--> 590\u001b[1;33m         \u001b[1;32mreturn\u001b[0m \u001b[0mself\u001b[0m\u001b[1;33m.\u001b[0m\u001b[0mrequest\u001b[0m\u001b[1;33m(\u001b[0m\u001b[1;34m'POST'\u001b[0m\u001b[1;33m,\u001b[0m \u001b[0murl\u001b[0m\u001b[1;33m,\u001b[0m \u001b[0mdata\u001b[0m\u001b[1;33m=\u001b[0m\u001b[0mdata\u001b[0m\u001b[1;33m,\u001b[0m \u001b[0mjson\u001b[0m\u001b[1;33m=\u001b[0m\u001b[0mjson\u001b[0m\u001b[1;33m,\u001b[0m \u001b[1;33m**\u001b[0m\u001b[0mkwargs\u001b[0m\u001b[1;33m)\u001b[0m\u001b[1;33m\u001b[0m\u001b[1;33m\u001b[0m\u001b[0m\n\u001b[0m\u001b[0;32m    591\u001b[0m \u001b[1;33m\u001b[0m\u001b[0m\n\u001b[0;32m    592\u001b[0m     \u001b[1;32mdef\u001b[0m \u001b[0mput\u001b[0m\u001b[1;33m(\u001b[0m\u001b[0mself\u001b[0m\u001b[1;33m,\u001b[0m \u001b[0murl\u001b[0m\u001b[1;33m,\u001b[0m \u001b[0mdata\u001b[0m\u001b[1;33m=\u001b[0m\u001b[1;32mNone\u001b[0m\u001b[1;33m,\u001b[0m \u001b[1;33m**\u001b[0m\u001b[0mkwargs\u001b[0m\u001b[1;33m)\u001b[0m\u001b[1;33m:\u001b[0m\u001b[1;33m\u001b[0m\u001b[1;33m\u001b[0m\u001b[0m\n",
      "\u001b[1;32m~\\anaconda3\\lib\\site-packages\\qiskit\\providers\\ibmq\\api\\session.py\u001b[0m in \u001b[0;36mrequest\u001b[1;34m(self, method, url, bare, **kwargs)\u001b[0m\n\u001b[0;32m    298\u001b[0m                 \u001b[0mself\u001b[0m\u001b[1;33m.\u001b[0m\u001b[0m_modify_chained_exception_messages\u001b[0m\u001b[1;33m(\u001b[0m\u001b[0mex\u001b[0m\u001b[1;33m)\u001b[0m\u001b[1;33m\u001b[0m\u001b[1;33m\u001b[0m\u001b[0m\n\u001b[0;32m    299\u001b[0m \u001b[1;33m\u001b[0m\u001b[0m\n\u001b[1;32m--> 300\u001b[1;33m             \u001b[1;32mraise\u001b[0m \u001b[0mRequestsApiError\u001b[0m\u001b[1;33m(\u001b[0m\u001b[0mmessage\u001b[0m\u001b[1;33m,\u001b[0m \u001b[0mstatus_code\u001b[0m\u001b[1;33m)\u001b[0m \u001b[1;32mfrom\u001b[0m \u001b[0mex\u001b[0m\u001b[1;33m\u001b[0m\u001b[1;33m\u001b[0m\u001b[0m\n\u001b[0m\u001b[0;32m    301\u001b[0m \u001b[1;33m\u001b[0m\u001b[0m\n\u001b[0;32m    302\u001b[0m         \u001b[1;32mreturn\u001b[0m \u001b[0mresponse\u001b[0m\u001b[1;33m\u001b[0m\u001b[1;33m\u001b[0m\u001b[0m\n",
      "\u001b[1;31mRequestsApiError\u001b[0m: '400 Client Error: Bad Request for url: https://runtime-us-east.quantum-computing.ibm.com/jobs. {\"errors\":[{\"code\":\"bad_request\",\"message\":\"models.ProgramRunParams.Params: ReadMapCB: expect { or n, but found [, error found in #10 byte of ...|params\\\\\": [\\\\\"{\\\\\\\\\\\\\"operat|..., bigger context ...|ject\\\\\": \\\\\"main\\\\\", \\\\\"backend\\\\\": \\\\\"ibmq_lima\\\\\", \\\\\"params\\\\\": [\\\\\"{\\\\\\\\\\\\\"operator\\\\\\\\\\\\\": {\\\\\\\\\\\\\"__type__\\\\\\\\\\\\\": \\\\\\\\\\\\\"settings\\\\\\\\\\\\\", \\\\\\\\\\\\\"__m|...\",\"more_info\":\"https://cloud.ibm.com/apidocs/quantum-computing#error-handling\"}],\"trace\":\"c7a6c356m4ar19kib5hg\"}'"
     ]
    }
   ],
   "source": [
    "from qiskit_nature.runtime import VQEProgram\n",
    " \n",
    "    \n",
    "# in this first release, the optimizer must be specified as dictionary\n",
    "optimizer = {'name': 'SPSA',\n",
    "             'maxiter': 50}\n",
    "\n",
    "runtime_vqe = VQEProgram(ansatz=ansatz,            #VQEProgram invece di VQE(usata in sim locale)\n",
    "                         optimizer=optimizer,\n",
    "                         initial_point=initial_point,\n",
    "                         provider=provider,\n",
    "                         backend=backend,\n",
    "                         shots=1024,\n",
    "                         measurement_error_mitigation=measurement_error_mitigation,\n",
    "                         callback=callback)\n",
    "\n",
    "HW_GSEigE, HW_meanerr = VQE_par_H_diagonalizer(runtime_vqe,qH)"
   ]
  },
  {
   "cell_type": "markdown",
   "id": "11f6db1b",
   "metadata": {},
   "source": [
    "Scriviamo i risultati e poi plottiamoli insieme alle simulazioni classiche e locali"
   ]
  },
  {
   "cell_type": "code",
   "execution_count": 78,
   "id": "89210660",
   "metadata": {},
   "outputs": [
    {
     "name": "stdout",
     "output_type": "stream",
     "text": [
      "Eigenvalues: Mean error:\n"
     ]
    },
    {
     "ename": "NameError",
     "evalue": "name 'HW_GSEigE' is not defined",
     "output_type": "error",
     "traceback": [
      "\u001b[1;31m---------------------------------------------------------------------------\u001b[0m",
      "\u001b[1;31mNameError\u001b[0m                                 Traceback (most recent call last)",
      "\u001b[1;32m<ipython-input-78-e9a8e7c5132f>\u001b[0m in \u001b[0;36m<module>\u001b[1;34m\u001b[0m\n\u001b[0;32m      1\u001b[0m \u001b[0mprint\u001b[0m\u001b[1;33m(\u001b[0m\u001b[1;34m'Eigenvalues:'\u001b[0m\u001b[1;33m,\u001b[0m\u001b[1;34m'Mean error:'\u001b[0m\u001b[1;33m)\u001b[0m\u001b[1;33m\u001b[0m\u001b[1;33m\u001b[0m\u001b[0m\n\u001b[1;32m----> 2\u001b[1;33m \u001b[1;32mfor\u001b[0m \u001b[0mi\u001b[0m \u001b[1;32min\u001b[0m \u001b[0mrange\u001b[0m\u001b[1;33m(\u001b[0m\u001b[0mlen\u001b[0m\u001b[1;33m(\u001b[0m\u001b[0mHW_GSEigE\u001b[0m\u001b[1;33m)\u001b[0m\u001b[1;33m)\u001b[0m\u001b[1;33m:\u001b[0m\u001b[1;33m\u001b[0m\u001b[1;33m\u001b[0m\u001b[0m\n\u001b[0m\u001b[0;32m      3\u001b[0m     \u001b[0mprint\u001b[0m\u001b[1;33m(\u001b[0m\u001b[0mHW_GSEigE\u001b[0m\u001b[1;33m[\u001b[0m\u001b[0mi\u001b[0m\u001b[1;33m]\u001b[0m\u001b[1;33m,\u001b[0m \u001b[0mHW_meanerr\u001b[0m\u001b[1;33m[\u001b[0m\u001b[0mi\u001b[0m\u001b[1;33m]\u001b[0m\u001b[1;33m)\u001b[0m\u001b[1;33m\u001b[0m\u001b[1;33m\u001b[0m\u001b[0m\n",
      "\u001b[1;31mNameError\u001b[0m: name 'HW_GSEigE' is not defined"
     ]
    }
   ],
   "source": [
    "print('Eigenvalues:','Mean error:')\n",
    "for i in range(len(HW_GSEigE)):\n",
    "    print(HW_GSEigE[i], HW_meanerr[i])"
   ]
  },
  {
   "cell_type": "code",
   "execution_count": 79,
   "id": "912edce0",
   "metadata": {},
   "outputs": [
    {
     "ename": "NameError",
     "evalue": "name 'HW_GSEigE' is not defined",
     "output_type": "error",
     "traceback": [
      "\u001b[1;31m---------------------------------------------------------------------------\u001b[0m",
      "\u001b[1;31mNameError\u001b[0m                                 Traceback (most recent call last)",
      "\u001b[1;32m<ipython-input-79-cd562d3fceae>\u001b[0m in \u001b[0;36m<module>\u001b[1;34m\u001b[0m\n\u001b[1;32m----> 1\u001b[1;33m \u001b[0mplot_tot\u001b[0m\u001b[1;33m(\u001b[0m\u001b[1;33m[\u001b[0m\u001b[0mcGSEigE\u001b[0m\u001b[1;33m,\u001b[0m \u001b[0mEigE\u001b[0m\u001b[1;33m,\u001b[0m \u001b[0mqGSEigE\u001b[0m\u001b[1;33m,\u001b[0m \u001b[0mHW_GSEigE\u001b[0m\u001b[1;33m]\u001b[0m\u001b[1;33m)\u001b[0m\u001b[1;33m\u001b[0m\u001b[1;33m\u001b[0m\u001b[0m\n\u001b[0m",
      "\u001b[1;31mNameError\u001b[0m: name 'HW_GSEigE' is not defined"
     ]
    }
   ],
   "source": [
    "plot_tot([cGSEigE, EigE, qGSEigE, HW_GSEigE])"
   ]
  },
  {
   "cell_type": "markdown",
   "id": "94135515",
   "metadata": {},
   "source": [
    "Oltre a questo, possiamo estrarre altre informazioni (da implementare per bene una volta capito come superare gli errori)"
   ]
  },
  {
   "cell_type": "code",
   "execution_count": 83,
   "id": "f9209457",
   "metadata": {},
   "outputs": [
    {
     "ename": "RequestsApiError",
     "evalue": "'400 Client Error: Bad Request for url: https://runtime-us-east.quantum-computing.ibm.com/jobs. {\"errors\":[{\"code\":\"bad_request\",\"message\":\"models.ProgramRunParams.Params: ReadMapCB: expect { or n, but found [, error found in #10 byte of ...|params\\\\\": [\\\\\"{\\\\\\\\\\\\\"operat|..., bigger context ...|ct\\\\\": \\\\\"main\\\\\", \\\\\"backend\\\\\": \\\\\"ibmq_manila\\\\\", \\\\\"params\\\\\": [\\\\\"{\\\\\\\\\\\\\"operator\\\\\\\\\\\\\": {\\\\\\\\\\\\\"__type__\\\\\\\\\\\\\": \\\\\\\\\\\\\"settings\\\\\\\\\\\\\", \\\\\\\\\\\\\"__m|...\",\"more_info\":\"https://cloud.ibm.com/apidocs/quantum-computing#error-handling\"}],\"trace\":\"c79k11h6o8pbbfvcjub0\"}'",
     "output_type": "error",
     "traceback": [
      "\u001b[1;31m---------------------------------------------------------------------------\u001b[0m",
      "\u001b[1;31mHTTPError\u001b[0m                                 Traceback (most recent call last)",
      "\u001b[1;32m~\\anaconda3\\lib\\site-packages\\qiskit\\providers\\ibmq\\api\\session.py\u001b[0m in \u001b[0;36mrequest\u001b[1;34m(self, method, url, bare, **kwargs)\u001b[0m\n\u001b[0;32m    277\u001b[0m             \u001b[0mresponse\u001b[0m \u001b[1;33m=\u001b[0m \u001b[0msuper\u001b[0m\u001b[1;33m(\u001b[0m\u001b[1;33m)\u001b[0m\u001b[1;33m.\u001b[0m\u001b[0mrequest\u001b[0m\u001b[1;33m(\u001b[0m\u001b[0mmethod\u001b[0m\u001b[1;33m,\u001b[0m \u001b[0mfinal_url\u001b[0m\u001b[1;33m,\u001b[0m \u001b[0mheaders\u001b[0m\u001b[1;33m=\u001b[0m\u001b[0mheaders\u001b[0m\u001b[1;33m,\u001b[0m \u001b[1;33m**\u001b[0m\u001b[0mkwargs\u001b[0m\u001b[1;33m)\u001b[0m\u001b[1;33m\u001b[0m\u001b[1;33m\u001b[0m\u001b[0m\n\u001b[1;32m--> 278\u001b[1;33m             \u001b[0mresponse\u001b[0m\u001b[1;33m.\u001b[0m\u001b[0mraise_for_status\u001b[0m\u001b[1;33m(\u001b[0m\u001b[1;33m)\u001b[0m\u001b[1;33m\u001b[0m\u001b[1;33m\u001b[0m\u001b[0m\n\u001b[0m\u001b[0;32m    279\u001b[0m         \u001b[1;32mexcept\u001b[0m \u001b[0mRequestException\u001b[0m \u001b[1;32mas\u001b[0m \u001b[0mex\u001b[0m\u001b[1;33m:\u001b[0m\u001b[1;33m\u001b[0m\u001b[1;33m\u001b[0m\u001b[0m\n",
      "\u001b[1;32m~\\anaconda3\\lib\\site-packages\\requests\\models.py\u001b[0m in \u001b[0;36mraise_for_status\u001b[1;34m(self)\u001b[0m\n\u001b[0;32m    942\u001b[0m         \u001b[1;32mif\u001b[0m \u001b[0mhttp_error_msg\u001b[0m\u001b[1;33m:\u001b[0m\u001b[1;33m\u001b[0m\u001b[1;33m\u001b[0m\u001b[0m\n\u001b[1;32m--> 943\u001b[1;33m             \u001b[1;32mraise\u001b[0m \u001b[0mHTTPError\u001b[0m\u001b[1;33m(\u001b[0m\u001b[0mhttp_error_msg\u001b[0m\u001b[1;33m,\u001b[0m \u001b[0mresponse\u001b[0m\u001b[1;33m=\u001b[0m\u001b[0mself\u001b[0m\u001b[1;33m)\u001b[0m\u001b[1;33m\u001b[0m\u001b[1;33m\u001b[0m\u001b[0m\n\u001b[0m\u001b[0;32m    944\u001b[0m \u001b[1;33m\u001b[0m\u001b[0m\n",
      "\u001b[1;31mHTTPError\u001b[0m: 400 Client Error: Bad Request for url: https://runtime-us-east.quantum-computing.ibm.com/jobs",
      "\nThe above exception was the direct cause of the following exception:\n",
      "\u001b[1;31mRequestsApiError\u001b[0m                          Traceback (most recent call last)",
      "\u001b[1;32m<ipython-input-83-93b6068ce380>\u001b[0m in \u001b[0;36m<module>\u001b[1;34m\u001b[0m\n\u001b[0;32m      1\u001b[0m \u001b[1;32mfor\u001b[0m \u001b[0mi\u001b[0m \u001b[1;32min\u001b[0m \u001b[0mrange\u001b[0m\u001b[1;33m(\u001b[0m\u001b[0mlen\u001b[0m\u001b[1;33m(\u001b[0m\u001b[0mqH\u001b[0m\u001b[1;33m)\u001b[0m\u001b[1;33m)\u001b[0m\u001b[1;33m:\u001b[0m\u001b[1;33m\u001b[0m\u001b[1;33m\u001b[0m\u001b[0m\n\u001b[1;32m----> 2\u001b[1;33m     \u001b[0mruntime_result\u001b[0m \u001b[1;33m=\u001b[0m \u001b[0mruntime_vqe\u001b[0m\u001b[1;33m.\u001b[0m\u001b[0mcompute_minimum_eigenvalue\u001b[0m\u001b[1;33m(\u001b[0m\u001b[0mqH\u001b[0m\u001b[1;33m[\u001b[0m\u001b[0mi\u001b[0m\u001b[1;33m]\u001b[0m\u001b[1;33m)\u001b[0m\u001b[1;33m\u001b[0m\u001b[1;33m\u001b[0m\u001b[0m\n\u001b[0m\u001b[0;32m      3\u001b[0m     \u001b[0mhistory\u001b[0m \u001b[1;33m=\u001b[0m \u001b[0mruntime_result\u001b[0m\u001b[1;33m.\u001b[0m\u001b[0moptimizer_history\u001b[0m\u001b[1;33m\u001b[0m\u001b[1;33m\u001b[0m\u001b[0m\n\u001b[0;32m      4\u001b[0m \u001b[1;33m\u001b[0m\u001b[0m\n\u001b[0;32m      5\u001b[0m     \u001b[0mloss\u001b[0m \u001b[1;33m=\u001b[0m \u001b[0mhistory\u001b[0m\u001b[1;33m[\u001b[0m\u001b[1;34m'loss'\u001b[0m\u001b[1;33m]\u001b[0m\u001b[1;33m\u001b[0m\u001b[1;33m\u001b[0m\u001b[0m\n",
      "\u001b[1;32m~\\anaconda3\\lib\\site-packages\\qiskit_nature\\runtime\\vqe_program.py\u001b[0m in \u001b[0;36mcompute_minimum_eigenvalue\u001b[1;34m(self, operator, aux_operators)\u001b[0m\n\u001b[0;32m     70\u001b[0m         \u001b[0mself\u001b[0m\u001b[1;33m,\u001b[0m \u001b[0moperator\u001b[0m\u001b[1;33m:\u001b[0m \u001b[0mOperatorBase\u001b[0m\u001b[1;33m,\u001b[0m \u001b[0maux_operators\u001b[0m\u001b[1;33m:\u001b[0m \u001b[0mOptional\u001b[0m\u001b[1;33m[\u001b[0m\u001b[0mList\u001b[0m\u001b[1;33m[\u001b[0m\u001b[0mOptional\u001b[0m\u001b[1;33m[\u001b[0m\u001b[0mOperatorBase\u001b[0m\u001b[1;33m]\u001b[0m\u001b[1;33m]\u001b[0m\u001b[1;33m]\u001b[0m \u001b[1;33m=\u001b[0m \u001b[1;32mNone\u001b[0m\u001b[1;33m\u001b[0m\u001b[1;33m\u001b[0m\u001b[0m\n\u001b[0;32m     71\u001b[0m     ) -> MinimumEigensolverResult:\n\u001b[1;32m---> 72\u001b[1;33m         \u001b[0mresult\u001b[0m \u001b[1;33m=\u001b[0m \u001b[0msuper\u001b[0m\u001b[1;33m(\u001b[0m\u001b[1;33m)\u001b[0m\u001b[1;33m.\u001b[0m\u001b[0mcompute_minimum_eigenvalue\u001b[0m\u001b[1;33m(\u001b[0m\u001b[0moperator\u001b[0m\u001b[1;33m,\u001b[0m \u001b[0maux_operators\u001b[0m\u001b[1;33m)\u001b[0m\u001b[1;33m\u001b[0m\u001b[1;33m\u001b[0m\u001b[0m\n\u001b[0m\u001b[0;32m     73\u001b[0m \u001b[1;33m\u001b[0m\u001b[0m\n\u001b[0;32m     74\u001b[0m         \u001b[1;31m# convert to previous result type\u001b[0m\u001b[1;33m\u001b[0m\u001b[1;33m\u001b[0m\u001b[1;33m\u001b[0m\u001b[0m\n",
      "\u001b[1;32m~\\anaconda3\\lib\\site-packages\\qiskit_nature\\runtime\\vqe_client.py\u001b[0m in \u001b[0;36mcompute_minimum_eigenvalue\u001b[1;34m(self, operator, aux_operators)\u001b[0m\n\u001b[0;32m    277\u001b[0m \u001b[1;33m\u001b[0m\u001b[0m\n\u001b[0;32m    278\u001b[0m         \u001b[1;31m# send job to runtime and return result\u001b[0m\u001b[1;33m\u001b[0m\u001b[1;33m\u001b[0m\u001b[1;33m\u001b[0m\u001b[0m\n\u001b[1;32m--> 279\u001b[1;33m         job = self.provider.runtime.run(\n\u001b[0m\u001b[0;32m    280\u001b[0m             \u001b[0mprogram_id\u001b[0m\u001b[1;33m=\u001b[0m\u001b[0mself\u001b[0m\u001b[1;33m.\u001b[0m\u001b[0mprogram_id\u001b[0m\u001b[1;33m,\u001b[0m\u001b[1;33m\u001b[0m\u001b[1;33m\u001b[0m\u001b[0m\n\u001b[0;32m    281\u001b[0m             \u001b[0minputs\u001b[0m\u001b[1;33m=\u001b[0m\u001b[0minputs\u001b[0m\u001b[1;33m,\u001b[0m\u001b[1;33m\u001b[0m\u001b[1;33m\u001b[0m\u001b[0m\n",
      "\u001b[1;32m~\\anaconda3\\lib\\site-packages\\qiskit\\providers\\ibmq\\runtime\\ibm_runtime_service.py\u001b[0m in \u001b[0;36mrun\u001b[1;34m(self, program_id, options, inputs, callback, result_decoder, image)\u001b[0m\n\u001b[0;32m    244\u001b[0m         \u001b[0mparams_str\u001b[0m \u001b[1;33m=\u001b[0m \u001b[0mjson\u001b[0m\u001b[1;33m.\u001b[0m\u001b[0mdumps\u001b[0m\u001b[1;33m(\u001b[0m\u001b[0minputs\u001b[0m\u001b[1;33m,\u001b[0m \u001b[0mcls\u001b[0m\u001b[1;33m=\u001b[0m\u001b[0mRuntimeEncoder\u001b[0m\u001b[1;33m)\u001b[0m\u001b[1;33m\u001b[0m\u001b[1;33m\u001b[0m\u001b[0m\n\u001b[0;32m    245\u001b[0m         \u001b[0mresult_decoder\u001b[0m \u001b[1;33m=\u001b[0m \u001b[0mresult_decoder\u001b[0m \u001b[1;32mor\u001b[0m \u001b[0mResultDecoder\u001b[0m\u001b[1;33m\u001b[0m\u001b[1;33m\u001b[0m\u001b[0m\n\u001b[1;32m--> 246\u001b[1;33m         response = self._api_client.program_run(program_id=program_id,\n\u001b[0m\u001b[0;32m    247\u001b[0m                                                 \u001b[0mcredentials\u001b[0m\u001b[1;33m=\u001b[0m\u001b[0mself\u001b[0m\u001b[1;33m.\u001b[0m\u001b[0m_provider\u001b[0m\u001b[1;33m.\u001b[0m\u001b[0mcredentials\u001b[0m\u001b[1;33m,\u001b[0m\u001b[1;33m\u001b[0m\u001b[1;33m\u001b[0m\u001b[0m\n\u001b[0;32m    248\u001b[0m                                                 \u001b[0mbackend_name\u001b[0m\u001b[1;33m=\u001b[0m\u001b[0mbackend_name\u001b[0m\u001b[1;33m,\u001b[0m\u001b[1;33m\u001b[0m\u001b[1;33m\u001b[0m\u001b[0m\n",
      "\u001b[1;32m~\\anaconda3\\lib\\site-packages\\qiskit\\providers\\ibmq\\api\\clients\\runtime.py\u001b[0m in \u001b[0;36mprogram_run\u001b[1;34m(self, program_id, credentials, backend_name, params, image)\u001b[0m\n\u001b[0;32m    143\u001b[0m             \u001b[0mJSON\u001b[0m \u001b[0mresponse\u001b[0m\u001b[1;33m.\u001b[0m\u001b[1;33m\u001b[0m\u001b[1;33m\u001b[0m\u001b[0m\n\u001b[0;32m    144\u001b[0m         \"\"\"\n\u001b[1;32m--> 145\u001b[1;33m         return self.api.program_run(program_id=program_id, hub=credentials.hub,\n\u001b[0m\u001b[0;32m    146\u001b[0m                                     \u001b[0mgroup\u001b[0m\u001b[1;33m=\u001b[0m\u001b[0mcredentials\u001b[0m\u001b[1;33m.\u001b[0m\u001b[0mgroup\u001b[0m\u001b[1;33m,\u001b[0m \u001b[0mproject\u001b[0m\u001b[1;33m=\u001b[0m\u001b[0mcredentials\u001b[0m\u001b[1;33m.\u001b[0m\u001b[0mproject\u001b[0m\u001b[1;33m,\u001b[0m\u001b[1;33m\u001b[0m\u001b[1;33m\u001b[0m\u001b[0m\n\u001b[0;32m    147\u001b[0m                                     \u001b[0mbackend_name\u001b[0m\u001b[1;33m=\u001b[0m\u001b[0mbackend_name\u001b[0m\u001b[1;33m,\u001b[0m \u001b[0mparams\u001b[0m\u001b[1;33m=\u001b[0m\u001b[0mparams\u001b[0m\u001b[1;33m,\u001b[0m\u001b[1;33m\u001b[0m\u001b[1;33m\u001b[0m\u001b[0m\n",
      "\u001b[1;32m~\\anaconda3\\lib\\site-packages\\qiskit\\providers\\ibmq\\api\\rest\\runtime.py\u001b[0m in \u001b[0;36mprogram_run\u001b[1;34m(self, program_id, hub, group, project, backend_name, params, image)\u001b[0m\n\u001b[0;32m    155\u001b[0m         }\n\u001b[0;32m    156\u001b[0m         \u001b[0mdata\u001b[0m \u001b[1;33m=\u001b[0m \u001b[0mjson\u001b[0m\u001b[1;33m.\u001b[0m\u001b[0mdumps\u001b[0m\u001b[1;33m(\u001b[0m\u001b[0mpayload\u001b[0m\u001b[1;33m)\u001b[0m\u001b[1;33m\u001b[0m\u001b[1;33m\u001b[0m\u001b[0m\n\u001b[1;32m--> 157\u001b[1;33m         \u001b[1;32mreturn\u001b[0m \u001b[0mself\u001b[0m\u001b[1;33m.\u001b[0m\u001b[0msession\u001b[0m\u001b[1;33m.\u001b[0m\u001b[0mpost\u001b[0m\u001b[1;33m(\u001b[0m\u001b[0murl\u001b[0m\u001b[1;33m,\u001b[0m \u001b[0mdata\u001b[0m\u001b[1;33m=\u001b[0m\u001b[0mdata\u001b[0m\u001b[1;33m)\u001b[0m\u001b[1;33m.\u001b[0m\u001b[0mjson\u001b[0m\u001b[1;33m(\u001b[0m\u001b[1;33m)\u001b[0m\u001b[1;33m\u001b[0m\u001b[1;33m\u001b[0m\u001b[0m\n\u001b[0m\u001b[0;32m    158\u001b[0m \u001b[1;33m\u001b[0m\u001b[0m\n\u001b[0;32m    159\u001b[0m     \u001b[1;32mdef\u001b[0m \u001b[0mjobs_get\u001b[0m\u001b[1;33m(\u001b[0m\u001b[0mself\u001b[0m\u001b[1;33m,\u001b[0m \u001b[0mlimit\u001b[0m\u001b[1;33m:\u001b[0m \u001b[0mint\u001b[0m \u001b[1;33m=\u001b[0m \u001b[1;32mNone\u001b[0m\u001b[1;33m,\u001b[0m \u001b[0mskip\u001b[0m\u001b[1;33m:\u001b[0m \u001b[0mint\u001b[0m \u001b[1;33m=\u001b[0m \u001b[1;32mNone\u001b[0m\u001b[1;33m,\u001b[0m \u001b[0mpending\u001b[0m\u001b[1;33m:\u001b[0m \u001b[0mbool\u001b[0m \u001b[1;33m=\u001b[0m \u001b[1;32mNone\u001b[0m\u001b[1;33m)\u001b[0m \u001b[1;33m->\u001b[0m \u001b[0mDict\u001b[0m\u001b[1;33m:\u001b[0m\u001b[1;33m\u001b[0m\u001b[1;33m\u001b[0m\u001b[0m\n",
      "\u001b[1;32m~\\anaconda3\\lib\\site-packages\\requests\\sessions.py\u001b[0m in \u001b[0;36mpost\u001b[1;34m(self, url, data, json, **kwargs)\u001b[0m\n\u001b[0;32m    588\u001b[0m         \"\"\"\n\u001b[0;32m    589\u001b[0m \u001b[1;33m\u001b[0m\u001b[0m\n\u001b[1;32m--> 590\u001b[1;33m         \u001b[1;32mreturn\u001b[0m \u001b[0mself\u001b[0m\u001b[1;33m.\u001b[0m\u001b[0mrequest\u001b[0m\u001b[1;33m(\u001b[0m\u001b[1;34m'POST'\u001b[0m\u001b[1;33m,\u001b[0m \u001b[0murl\u001b[0m\u001b[1;33m,\u001b[0m \u001b[0mdata\u001b[0m\u001b[1;33m=\u001b[0m\u001b[0mdata\u001b[0m\u001b[1;33m,\u001b[0m \u001b[0mjson\u001b[0m\u001b[1;33m=\u001b[0m\u001b[0mjson\u001b[0m\u001b[1;33m,\u001b[0m \u001b[1;33m**\u001b[0m\u001b[0mkwargs\u001b[0m\u001b[1;33m)\u001b[0m\u001b[1;33m\u001b[0m\u001b[1;33m\u001b[0m\u001b[0m\n\u001b[0m\u001b[0;32m    591\u001b[0m \u001b[1;33m\u001b[0m\u001b[0m\n\u001b[0;32m    592\u001b[0m     \u001b[1;32mdef\u001b[0m \u001b[0mput\u001b[0m\u001b[1;33m(\u001b[0m\u001b[0mself\u001b[0m\u001b[1;33m,\u001b[0m \u001b[0murl\u001b[0m\u001b[1;33m,\u001b[0m \u001b[0mdata\u001b[0m\u001b[1;33m=\u001b[0m\u001b[1;32mNone\u001b[0m\u001b[1;33m,\u001b[0m \u001b[1;33m**\u001b[0m\u001b[0mkwargs\u001b[0m\u001b[1;33m)\u001b[0m\u001b[1;33m:\u001b[0m\u001b[1;33m\u001b[0m\u001b[1;33m\u001b[0m\u001b[0m\n",
      "\u001b[1;32m~\\anaconda3\\lib\\site-packages\\qiskit\\providers\\ibmq\\api\\session.py\u001b[0m in \u001b[0;36mrequest\u001b[1;34m(self, method, url, bare, **kwargs)\u001b[0m\n\u001b[0;32m    298\u001b[0m                 \u001b[0mself\u001b[0m\u001b[1;33m.\u001b[0m\u001b[0m_modify_chained_exception_messages\u001b[0m\u001b[1;33m(\u001b[0m\u001b[0mex\u001b[0m\u001b[1;33m)\u001b[0m\u001b[1;33m\u001b[0m\u001b[1;33m\u001b[0m\u001b[0m\n\u001b[0;32m    299\u001b[0m \u001b[1;33m\u001b[0m\u001b[0m\n\u001b[1;32m--> 300\u001b[1;33m             \u001b[1;32mraise\u001b[0m \u001b[0mRequestsApiError\u001b[0m\u001b[1;33m(\u001b[0m\u001b[0mmessage\u001b[0m\u001b[1;33m,\u001b[0m \u001b[0mstatus_code\u001b[0m\u001b[1;33m)\u001b[0m \u001b[1;32mfrom\u001b[0m \u001b[0mex\u001b[0m\u001b[1;33m\u001b[0m\u001b[1;33m\u001b[0m\u001b[0m\n\u001b[0m\u001b[0;32m    301\u001b[0m \u001b[1;33m\u001b[0m\u001b[0m\n\u001b[0;32m    302\u001b[0m         \u001b[1;32mreturn\u001b[0m \u001b[0mresponse\u001b[0m\u001b[1;33m\u001b[0m\u001b[1;33m\u001b[0m\u001b[0m\n",
      "\u001b[1;31mRequestsApiError\u001b[0m: '400 Client Error: Bad Request for url: https://runtime-us-east.quantum-computing.ibm.com/jobs. {\"errors\":[{\"code\":\"bad_request\",\"message\":\"models.ProgramRunParams.Params: ReadMapCB: expect { or n, but found [, error found in #10 byte of ...|params\\\\\": [\\\\\"{\\\\\\\\\\\\\"operat|..., bigger context ...|ct\\\\\": \\\\\"main\\\\\", \\\\\"backend\\\\\": \\\\\"ibmq_manila\\\\\", \\\\\"params\\\\\": [\\\\\"{\\\\\\\\\\\\\"operator\\\\\\\\\\\\\": {\\\\\\\\\\\\\"__type__\\\\\\\\\\\\\": \\\\\\\\\\\\\"settings\\\\\\\\\\\\\", \\\\\\\\\\\\\"__m|...\",\"more_info\":\"https://cloud.ibm.com/apidocs/quantum-computing#error-handling\"}],\"trace\":\"c79k11h6o8pbbfvcjub0\"}'"
     ]
    }
   ],
   "source": [
    "for i in range(len(qH)):\n",
    "    runtime_result = runtime_vqe.compute_minimum_eigenvalue(qH[i])\n",
    "    history = runtime_result.optimizer_history\n",
    "\n",
    "    loss = history['loss']\n",
    "    timestamps = history['time']\n",
    "\n",
    "    runtimes = np.concatenate(([0], np.diff(timestamps)))\n",
    "    runtimes_in_min = runtimes / 60\n",
    "    print(f'Total time taken: {np.sum(runtimes_in_min):.2f}min\\n')\n",
    "\n",
    "# note that the median and average might differ, since the device get's calibrated every hour\n",
    "# resulting in some iteration times that are much larger than the rest\n",
    "    print(f'Median time of the iterations: {np.median(runtimes):.2f}s')\n",
    "    print(f'Average time per iteration: {np.mean(runtimes):.2f}s')\n",
    "    print(f'Standard deviation: {np.std(runtimes):.2f}s')"
   ]
  },
  {
   "cell_type": "code",
   "execution_count": null,
   "id": "88c4bc47",
   "metadata": {},
   "outputs": [],
   "source": []
  }
 ],
 "metadata": {
  "kernelspec": {
   "display_name": "Python 3",
   "language": "python",
   "name": "python3"
  },
  "language_info": {
   "codemirror_mode": {
    "name": "ipython",
    "version": 3
   },
   "file_extension": ".py",
   "mimetype": "text/x-python",
   "name": "python",
   "nbconvert_exporter": "python",
   "pygments_lexer": "ipython3",
   "version": "3.8.8"
  }
 },
 "nbformat": 4,
 "nbformat_minor": 5
}
